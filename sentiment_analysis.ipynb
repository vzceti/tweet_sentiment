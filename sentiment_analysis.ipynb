{
 "cells": [
  {
   "cell_type": "code",
   "execution_count": null,
   "metadata": {},
   "outputs": [],
   "source": [
    "# Run the imports/functions file\n",
    "%run ./imports_functions.ipynb\n",
    "\n",
    "# Splitting the data for training and testing (80% training, 20% testing)\n",
    "train_pos = all_positive_tweets[:4000]\n",
    "test_pos = all_positive_tweets[4000:]\n",
    "\n",
    "train_neg = all_negative_tweets[:4000]\n",
    "test_neg = all_negative_tweets[4000:]\n",
    "\n",
    "# Training and testing tweets dataframes\n",
    "train_x = train_pos + train_neg\n",
    "test_x = test_pos + test_neg\n",
    "\n",
    "# Training and testing positive/negative (flag) dataframes\n",
    "train_y = np.append(np.ones((len(train_pos))), np.zeros((len(train_neg))))\n",
    "test_y = np.append(np.ones((len(test_neg))), np.zeros((len(test_neg))))"
   ]
  },
  {
   "cell_type": "code",
   "execution_count": null,
   "metadata": {},
   "outputs": [],
   "source": [
    "# Build a frequency dictionary\n",
    "freqs = count_tweets(train_x, train_y)\n",
    "\n",
    "# Train model and get model parameters\n",
    "logprior, loglikelihood = train_naive_bayes(freqs, train_x, train_y)\n",
    "\n",
    "# Test model using model parameters and testing dataframe\n",
    "test_naive_bayes(test_x, test_y, logprior, loglikelihood)"
   ]
  },
  {
   "cell_type": "code",
   "execution_count": 14,
   "metadata": {},
   "outputs": [
    {
     "name": "stdout",
     "output_type": "stream",
     "text": [
      "weighted: 35.78565736055179\n",
      "unweighted: -37.66522773259011\n"
     ]
    }
   ],
   "source": [
    "# Read in tweets pulled from Twitter and initialize variables\n",
    "df = pd.read_csv(\"predicting_data.csv\")\n",
    "tweet_text = df.tweet_text\n",
    "total_score_unweighted = total_score_weighted = 0\n",
    "scores_array = []\n",
    "\n",
    "# Iterate through tweets and aggregate sentiment scores\n",
    "for i in range(len(tweet_text)):\n",
    "  # Calculate sentiment score for given tweet\n",
    "  p = naive_bayes_predict(tweet_text[i], logprior, loglikelihood)\n",
    "  # Calculate weighted and unweighted scores (weighted is cumulation of individual scores times likes)\n",
    "  total_score_weighted += p * (df.likes[i] + 1)\n",
    "  total_score_unweighted += p\n",
    "  \n",
    "# Display results\n",
    "print(\"weighted:\", total_score_weighted)\n",
    "print(\"unweighted:\", total_score_unweighted)\n",
    "print(\"average weighted:\", total_score_weighted/max_count)\n",
    "print(\"average unweighted\", total_score_unweighted/max_count)"
   ]
  }
 ],
 "metadata": {
  "kernelspec": {
   "display_name": "Python 3.9.13 64-bit (microsoft store)",
   "language": "python",
   "name": "python3"
  },
  "language_info": {
   "codemirror_mode": {
    "name": "ipython",
    "version": 3
   },
   "file_extension": ".py",
   "mimetype": "text/x-python",
   "name": "python",
   "nbconvert_exporter": "python",
   "pygments_lexer": "ipython3",
   "version": "3.9.13"
  },
  "orig_nbformat": 4,
  "vscode": {
   "interpreter": {
    "hash": "ee5e1442887e2b2e9acb09880c1665aeb7280f29d406a4248a74bfd7ca8aa1b7"
   }
  }
 },
 "nbformat": 4,
 "nbformat_minor": 2
}
