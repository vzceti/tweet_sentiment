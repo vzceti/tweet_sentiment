{
 "cells": [
  {
   "cell_type": "markdown",
   "metadata": {},
   "source": [
    "This is the file to pull the tweets from twitter, provided the max count of tweets to process and the hashtag (the topic) to search and returns a csv named \"predicting data\""
   ]
  },
  {
   "cell_type": "code",
   "execution_count": 1,
   "metadata": {},
   "outputs": [],
   "source": [
    "# Run the imports/functions file\n",
    "%run ./imports_functions.ipynb"
   ]
  },
  {
   "cell_type": "code",
   "execution_count": 2,
   "metadata": {},
   "outputs": [],
   "source": [
    "# MY TWITTER CREDENTIALS - DO NOT SHARE!!!\n",
    "consumer_key= \"w1vvnQKa7K5xAXR8dNQVEqU5n\"\n",
    "consumer_secret= \"aku11h72uvLXkdZdKGfZE2LL7KG220opwZNmJdbn5UVD7vPXCq\"\n",
    "access_token= \"1576783538921275393-G1QSESRIMKu7b0J4GCgV7pkk1LAolf\"\n",
    "access_token_secret= \"mb2AkZ5qqB2lVcCF2NfqB5gY4pnYpplAEY8n5dOhuMmYL\""
   ]
  },
  {
   "cell_type": "code",
   "execution_count": 4,
   "metadata": {},
   "outputs": [
    {
     "ename": "NameError",
     "evalue": "name 'hashtag_phrase' is not defined",
     "output_type": "error",
     "traceback": [
      "\u001b[1;31m---------------------------------------------------------------------------\u001b[0m",
      "\u001b[1;31mNameError\u001b[0m                                 Traceback (most recent call last)",
      "Cell \u001b[1;32mIn [4], line 22\u001b[0m\n\u001b[0;32m     18\u001b[0m w\u001b[39m.\u001b[39mwriterow([\u001b[39m'\u001b[39m\u001b[39mtimestamp\u001b[39m\u001b[39m'\u001b[39m, \u001b[39m'\u001b[39m\u001b[39mtweet_text\u001b[39m\u001b[39m'\u001b[39m, \u001b[39m'\u001b[39m\u001b[39mall_hashtags\u001b[39m\u001b[39m'\u001b[39m, \n\u001b[0;32m     19\u001b[0m             \u001b[39m'\u001b[39m\u001b[39mfollowers_count\u001b[39m\u001b[39m'\u001b[39m, \u001b[39m'\u001b[39m\u001b[39mretweet_count\u001b[39m\u001b[39m'\u001b[39m, \u001b[39m'\u001b[39m\u001b[39mlikes\u001b[39m\u001b[39m'\u001b[39m, \u001b[39m'\u001b[39m\u001b[39mreply_count\u001b[39m\u001b[39m'\u001b[39m])\n\u001b[0;32m     21\u001b[0m \u001b[39m# For each tweet matching hashtag, write relevant info to the spreadsheet\u001b[39;00m\n\u001b[1;32m---> 22\u001b[0m \u001b[39mfor\u001b[39;00m tweet \u001b[39min\u001b[39;00m tweepy\u001b[39m.\u001b[39mCursor(api\u001b[39m.\u001b[39msearch_tweets, q\u001b[39m=\u001b[39mhashtag_phrase\u001b[39m+\u001b[39m\u001b[39m'\u001b[39m\u001b[39m -filter:retweets\u001b[39m\u001b[39m'\u001b[39m, lang\u001b[39m=\u001b[39m\u001b[39m\"\u001b[39m\u001b[39men\u001b[39m\u001b[39m\"\u001b[39m, tweet_mode\u001b[39m=\u001b[39m\u001b[39m'\u001b[39m\u001b[39mextended\u001b[39m\u001b[39m'\u001b[39m)\u001b[39m.\u001b[39mitems(max_count):\n\u001b[0;32m     23\u001b[0m     w\u001b[39m.\u001b[39mwriterow([tweet\u001b[39m.\u001b[39mcreated_at, \n\u001b[0;32m     24\u001b[0m                 tweet\u001b[39m.\u001b[39mfull_text\u001b[39m.\u001b[39mreplace(\u001b[39m'\u001b[39m\u001b[39m\\n\u001b[39;00m\u001b[39m'\u001b[39m,\u001b[39m'\u001b[39m\u001b[39m \u001b[39m\u001b[39m'\u001b[39m)\u001b[39m.\u001b[39mencode(\u001b[39m'\u001b[39m\u001b[39mutf-8\u001b[39m\u001b[39m'\u001b[39m), \n\u001b[0;32m     25\u001b[0m                 [e[\u001b[39m'\u001b[39m\u001b[39mtext\u001b[39m\u001b[39m'\u001b[39m] \u001b[39mfor\u001b[39;00m e \u001b[39min\u001b[39;00m tweet\u001b[39m.\u001b[39m_json[\u001b[39m'\u001b[39m\u001b[39mentities\u001b[39m\u001b[39m'\u001b[39m][\u001b[39m'\u001b[39m\u001b[39mhashtags\u001b[39m\u001b[39m'\u001b[39m]],  \n\u001b[0;32m     26\u001b[0m                 tweet\u001b[39m.\u001b[39muser\u001b[39m.\u001b[39mfollowers_count, \n\u001b[0;32m     27\u001b[0m                 tweet\u001b[39m.\u001b[39mretweet_count, \n\u001b[0;32m     28\u001b[0m                 tweet\u001b[39m.\u001b[39mfavorite_count])\n",
      "\u001b[1;31mNameError\u001b[0m: name 'hashtag_phrase' is not defined"
     ]
    }
   ],
   "source": [
    "# Twitter authentication, tweet pulling, and dataset creation\n",
    "\n",
    "# Twitter authentication and the connection to Twitter API\n",
    "auth = tweepy.OAuthHandler(consumer_key, consumer_secret)\n",
    "auth.set_access_token(access_token, access_token_secret)\n",
    "\n",
    "# Initializing Tweepy API\n",
    "api = tweepy.API(auth, wait_on_rate_limit=True)\n",
    "\n",
    "# Name of csv file to be created\n",
    "fname = \"predicting_data\"\n",
    "\n",
    "# Open the spreadsheet\n",
    "with open('%s.csv' % (fname), 'w', newline = '', encoding=\"utf-8\") as file:\n",
    "    w = csv.writer(file)\n",
    "    \n",
    "    # Write header row\n",
    "    w.writerow(['timestamp', 'tweet_text', 'all_hashtags', \n",
    "                'followers_count', 'retweet_count', 'likes', 'reply_count'])\n",
    "    \n",
    "    # For each tweet matching hashtag, write relevant info to the spreadsheet\n",
    "    for tweet in tweepy.Cursor(api.search_tweets, q=hashtag_phrase+' -filter:retweets', lang=\"en\", tweet_mode='extended').items(max_count):\n",
    "        w.writerow([tweet.created_at, \n",
    "                    tweet.full_text.replace('\\n',' ').encode('utf-8'), \n",
    "                    [e['text'] for e in tweet._json['entities']['hashtags']],  \n",
    "                    tweet.user.followers_count, \n",
    "                    tweet.retweet_count, \n",
    "                    tweet.favorite_count])\n"
   ]
  }
 ],
 "metadata": {
  "kernelspec": {
   "display_name": "Python 3.9.13 64-bit (microsoft store)",
   "language": "python",
   "name": "python3"
  },
  "language_info": {
   "codemirror_mode": {
    "name": "ipython",
    "version": 3
   },
   "file_extension": ".py",
   "mimetype": "text/x-python",
   "name": "python",
   "nbconvert_exporter": "python",
   "pygments_lexer": "ipython3",
   "version": "3.9.13"
  },
  "orig_nbformat": 4,
  "vscode": {
   "interpreter": {
    "hash": "ee5e1442887e2b2e9acb09880c1665aeb7280f29d406a4248a74bfd7ca8aa1b7"
   }
  }
 },
 "nbformat": 4,
 "nbformat_minor": 2
}
